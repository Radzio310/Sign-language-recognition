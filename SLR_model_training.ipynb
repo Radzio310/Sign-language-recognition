{
  "nbformat": 4,
  "nbformat_minor": 0,
  "metadata": {
    "colab": {
      "provenance": [],
      "authorship_tag": "ABX9TyNw+K3URfEQGVF/HUnyzHdW",
      "include_colab_link": true
    },
    "kernelspec": {
      "name": "python3",
      "display_name": "Python 3"
    },
    "language_info": {
      "name": "python"
    }
  },
  "cells": [
    {
      "cell_type": "markdown",
      "metadata": {
        "id": "view-in-github",
        "colab_type": "text"
      },
      "source": [
        "<a href=\"https://colab.research.google.com/github/Radzio310/Sign-language-recognition/blob/main/SLR_model_training.ipynb\" target=\"_parent\"><img src=\"https://colab.research.google.com/assets/colab-badge.svg\" alt=\"Open In Colab\"/></a>"
      ]
    },
    {
      "cell_type": "markdown",
      "source": [
        "# Pobranie danych do folderu data"
      ],
      "metadata": {
        "id": "WyxySYpZWts8"
      }
    },
    {
      "cell_type": "code",
      "execution_count": 1,
      "metadata": {
        "colab": {
          "base_uri": "https://localhost:8080/"
        },
        "id": "3Rno-0e8Vr6-",
        "outputId": "354498ae-7a17-4070-9b03-307e959fe981"
      },
      "outputs": [
        {
          "output_type": "stream",
          "name": "stdout",
          "text": [
            "Requirement already satisfied: gdown in /usr/local/lib/python3.10/dist-packages (4.6.6)\n",
            "Collecting gdown\n",
            "  Downloading gdown-4.7.1-py3-none-any.whl (15 kB)\n",
            "Requirement already satisfied: filelock in /usr/local/lib/python3.10/dist-packages (from gdown) (3.13.1)\n",
            "Requirement already satisfied: requests[socks] in /usr/local/lib/python3.10/dist-packages (from gdown) (2.31.0)\n",
            "Requirement already satisfied: six in /usr/local/lib/python3.10/dist-packages (from gdown) (1.16.0)\n",
            "Requirement already satisfied: tqdm in /usr/local/lib/python3.10/dist-packages (from gdown) (4.66.1)\n",
            "Requirement already satisfied: beautifulsoup4 in /usr/local/lib/python3.10/dist-packages (from gdown) (4.11.2)\n",
            "Requirement already satisfied: soupsieve>1.2 in /usr/local/lib/python3.10/dist-packages (from beautifulsoup4->gdown) (2.5)\n",
            "Requirement already satisfied: charset-normalizer<4,>=2 in /usr/local/lib/python3.10/dist-packages (from requests[socks]->gdown) (3.3.2)\n",
            "Requirement already satisfied: idna<4,>=2.5 in /usr/local/lib/python3.10/dist-packages (from requests[socks]->gdown) (3.6)\n",
            "Requirement already satisfied: urllib3<3,>=1.21.1 in /usr/local/lib/python3.10/dist-packages (from requests[socks]->gdown) (2.0.7)\n",
            "Requirement already satisfied: certifi>=2017.4.17 in /usr/local/lib/python3.10/dist-packages (from requests[socks]->gdown) (2023.11.17)\n",
            "Requirement already satisfied: PySocks!=1.5.7,>=1.5.6 in /usr/local/lib/python3.10/dist-packages (from requests[socks]->gdown) (1.7.1)\n",
            "Installing collected packages: gdown\n",
            "  Attempting uninstall: gdown\n",
            "    Found existing installation: gdown 4.6.6\n",
            "    Uninstalling gdown-4.6.6:\n",
            "      Successfully uninstalled gdown-4.6.6\n",
            "Successfully installed gdown-4.7.1\n",
            "Downloading...\n",
            "From (uriginal): https://drive.google.com/uc?id=1p5_yO0fVzV58QeAGrzVtc5ML3ik27tyc\n",
            "From (redirected): https://drive.google.com/uc?id=1p5_yO0fVzV58QeAGrzVtc5ML3ik27tyc&confirm=t&uuid=e8bb1fc6-fe98-4914-8d24-610014af4eb3\n",
            "To: /content/data.zip\n",
            "100% 147M/147M [00:06<00:00, 21.5MB/s]\n",
            "project  test  train\n"
          ]
        }
      ],
      "source": [
        "\n",
        "!pip install -U --no-cache-dir gdown --pre\n",
        "\n",
        "!rm -rf data && mkdir data\n",
        "\n",
        "!gdown 1p5_yO0fVzV58QeAGrzVtc5ML3ik27tyc -O data.zip\n",
        "\n",
        "!unzip -q data.zip -d data\n",
        "\n",
        "!ls data"
      ]
    },
    {
      "cell_type": "markdown",
      "source": [
        "# Importowanie bibliotek"
      ],
      "metadata": {
        "id": "LtVXMta-W1P1"
      }
    },
    {
      "cell_type": "code",
      "source": [
        "import matplotlib.pyplot as plt\n",
        "import numpy as np\n",
        "import PIL\n",
        "import tensorflow as tf\n",
        "import glob\n",
        "\n",
        "from tensorflow import keras\n",
        "from tensorflow.keras import layers\n",
        "from tensorflow.keras.models import Sequential"
      ],
      "metadata": {
        "id": "lI5dFjYSWwv2"
      },
      "execution_count": 2,
      "outputs": []
    },
    {
      "cell_type": "markdown",
      "source": [
        "# Badanie zawartości bazy danych"
      ],
      "metadata": {
        "id": "YMJYpqeTXAHu"
      }
    },
    {
      "cell_type": "code",
      "source": [
        "image_count = len(list(glob.glob('data/**/**/*')))\n",
        "image_count += len(list(glob.glob('data/**/**/**/*')))\n",
        "print(f'{image_count} photos of letters in sign language')"
      ],
      "metadata": {
        "colab": {
          "base_uri": "https://localhost:8080/"
        },
        "id": "6ColkzukXB_S",
        "outputId": "7c928aad-06e2-4e71-de4c-c849b016cf18"
      },
      "execution_count": 6,
      "outputs": [
        {
          "output_type": "stream",
          "name": "stdout",
          "text": [
            "10286 photos of letters in sign language\n"
          ]
        }
      ]
    },
    {
      "cell_type": "markdown",
      "source": [
        "# Trenowanie modelu sieci neuronowej"
      ],
      "metadata": {
        "id": "gh3YqYWTXJuu"
      }
    },
    {
      "cell_type": "code",
      "source": [
        "batch_size = 32\n",
        "class_count = 24\n",
        "\n",
        "img_height = 64\n",
        "img_width = 64"
      ],
      "metadata": {
        "id": "7TQGdOSRXL03"
      },
      "execution_count": 14,
      "outputs": []
    },
    {
      "cell_type": "code",
      "source": [
        "train_ds = tf.keras.utils.image_dataset_from_directory(\n",
        "  'data/train',\n",
        "  seed=123,\n",
        "  validation_split=0.2,\n",
        "  subset=\"training\",\n",
        "  image_size=(img_height, img_width),\n",
        "  batch_size=batch_size)\n",
        "\n",
        "\n",
        "val_ds = tf.keras.utils.image_dataset_from_directory(\n",
        "  'data/project/train',\n",
        "  seed=123,\n",
        "  validation_split=0.5,\n",
        "  subset=\"validation\",\n",
        "  image_size=(img_height, img_width),\n",
        "  batch_size=batch_size)"
      ],
      "metadata": {
        "colab": {
          "base_uri": "https://localhost:8080/"
        },
        "id": "NmRGAx4uXeTl",
        "outputId": "02a37320-9041-4dbe-a3b5-fe3705b031de"
      },
      "execution_count": 26,
      "outputs": [
        {
          "output_type": "stream",
          "name": "stdout",
          "text": [
            "Found 4852 files belonging to 24 classes.\n",
            "Using 3882 files for training.\n",
            "Found 4852 files belonging to 24 classes.\n",
            "Using 2426 files for validation.\n"
          ]
        }
      ]
    },
    {
      "cell_type": "markdown",
      "source": [
        "## Ustawienia optymalizacyjne"
      ],
      "metadata": {
        "id": "MTBeZc3mXjDh"
      }
    },
    {
      "cell_type": "code",
      "source": [
        "train_ds = train_ds.cache().shuffle(1000).prefetch(buffer_size=tf.data.AUTOTUNE)\n",
        "val_ds = val_ds.cache().prefetch(buffer_size=tf.data.AUTOTUNE)"
      ],
      "metadata": {
        "id": "DDCq38RjXlKz"
      },
      "execution_count": 27,
      "outputs": []
    },
    {
      "cell_type": "markdown",
      "source": [
        "## Tworzenie struktury modelu"
      ],
      "metadata": {
        "id": "FjtnA0c4Xola"
      }
    },
    {
      "cell_type": "code",
      "source": [
        "model = Sequential([\n",
        "  layers.Rescaling(1./255, input_shape=(img_height, img_width, 3)),\n",
        "  layers.Conv2D(16, 3, padding='same', activation='relu'),\n",
        "  layers.MaxPooling2D(),\n",
        "  layers.Conv2D(32, 3, padding='same', activation='relu'),\n",
        "  layers.MaxPooling2D(),\n",
        "  layers.Conv2D(64, 3, padding='same', activation='relu'),\n",
        "  layers.MaxPooling2D(),\n",
        "  layers.Flatten(),\n",
        "  layers.Dense(128, activation='relu'),\n",
        "  layers.Dense(class_count)\n",
        "])"
      ],
      "metadata": {
        "id": "jUlYzaANXsnS"
      },
      "execution_count": 28,
      "outputs": []
    },
    {
      "cell_type": "code",
      "source": [
        "model.compile(optimizer='adam',\n",
        "              loss=tf.keras.losses.SparseCategoricalCrossentropy(from_logits=True),\n",
        "              metrics=['accuracy'])\n",
        "model.summary()"
      ],
      "metadata": {
        "colab": {
          "base_uri": "https://localhost:8080/"
        },
        "id": "cD3XUCIPXxCT",
        "outputId": "1c3aedfc-1792-46b3-ef93-9135288fad3a"
      },
      "execution_count": 29,
      "outputs": [
        {
          "output_type": "stream",
          "name": "stdout",
          "text": [
            "Model: \"sequential_2\"\n",
            "_________________________________________________________________\n",
            " Layer (type)                Output Shape              Param #   \n",
            "=================================================================\n",
            " rescaling_2 (Rescaling)     (None, 64, 64, 3)         0         \n",
            "                                                                 \n",
            " conv2d_6 (Conv2D)           (None, 64, 64, 16)        448       \n",
            "                                                                 \n",
            " max_pooling2d_6 (MaxPoolin  (None, 32, 32, 16)        0         \n",
            " g2D)                                                            \n",
            "                                                                 \n",
            " conv2d_7 (Conv2D)           (None, 32, 32, 32)        4640      \n",
            "                                                                 \n",
            " max_pooling2d_7 (MaxPoolin  (None, 16, 16, 32)        0         \n",
            " g2D)                                                            \n",
            "                                                                 \n",
            " conv2d_8 (Conv2D)           (None, 16, 16, 64)        18496     \n",
            "                                                                 \n",
            " max_pooling2d_8 (MaxPoolin  (None, 8, 8, 64)          0         \n",
            " g2D)                                                            \n",
            "                                                                 \n",
            " flatten_2 (Flatten)         (None, 4096)              0         \n",
            "                                                                 \n",
            " dense_4 (Dense)             (None, 128)               524416    \n",
            "                                                                 \n",
            " dense_5 (Dense)             (None, 24)                3096      \n",
            "                                                                 \n",
            "=================================================================\n",
            "Total params: 551096 (2.10 MB)\n",
            "Trainable params: 551096 (2.10 MB)\n",
            "Non-trainable params: 0 (0.00 Byte)\n",
            "_________________________________________________________________\n"
          ]
        }
      ]
    },
    {
      "cell_type": "markdown",
      "source": [
        "# Proces trenowania"
      ],
      "metadata": {
        "id": "kBZ9jwBZX1vs"
      }
    },
    {
      "cell_type": "code",
      "source": [
        "epochs=20\n",
        "history = model.fit(\n",
        "  train_ds,\n",
        "  validation_data=val_ds,\n",
        "  epochs=epochs\n",
        ")"
      ],
      "metadata": {
        "colab": {
          "base_uri": "https://localhost:8080/"
        },
        "id": "J4Ujg1tdX3PA",
        "outputId": "ed0e3aef-95dc-46dc-f2ba-74728829891d"
      },
      "execution_count": 30,
      "outputs": [
        {
          "output_type": "stream",
          "name": "stdout",
          "text": [
            "Epoch 1/20\n",
            "122/122 [==============================] - 33s 200ms/step - loss: 2.0911 - accuracy: 0.3838 - val_loss: 0.7286 - val_accuracy: 0.7918\n",
            "Epoch 2/20\n",
            "122/122 [==============================] - 22s 179ms/step - loss: 0.4950 - accuracy: 0.8421 - val_loss: 0.2613 - val_accuracy: 0.9176\n",
            "Epoch 3/20\n",
            "122/122 [==============================] - 18s 152ms/step - loss: 0.1646 - accuracy: 0.9526 - val_loss: 0.0666 - val_accuracy: 0.9856\n",
            "Epoch 4/20\n",
            "122/122 [==============================] - 21s 173ms/step - loss: 0.0582 - accuracy: 0.9871 - val_loss: 0.1319 - val_accuracy: 0.9571\n",
            "Epoch 5/20\n",
            "122/122 [==============================] - 19s 157ms/step - loss: 0.0613 - accuracy: 0.9822 - val_loss: 0.0591 - val_accuracy: 0.9827\n",
            "Epoch 6/20\n",
            "122/122 [==============================] - 21s 173ms/step - loss: 0.0346 - accuracy: 0.9902 - val_loss: 0.0316 - val_accuracy: 0.9872\n",
            "Epoch 7/20\n",
            "122/122 [==============================] - 21s 176ms/step - loss: 0.0089 - accuracy: 0.9990 - val_loss: 0.0084 - val_accuracy: 0.9971\n",
            "Epoch 8/20\n",
            "122/122 [==============================] - 22s 179ms/step - loss: 0.0030 - accuracy: 0.9995 - val_loss: 0.0036 - val_accuracy: 0.9988\n",
            "Epoch 9/20\n",
            "122/122 [==============================] - 18s 151ms/step - loss: 9.4805e-04 - accuracy: 1.0000 - val_loss: 0.0021 - val_accuracy: 0.9992\n",
            "Epoch 10/20\n",
            "122/122 [==============================] - 22s 180ms/step - loss: 5.8207e-04 - accuracy: 1.0000 - val_loss: 0.0024 - val_accuracy: 0.9992\n",
            "Epoch 11/20\n",
            "122/122 [==============================] - 20s 165ms/step - loss: 5.8070e-04 - accuracy: 1.0000 - val_loss: 0.0022 - val_accuracy: 0.9992\n",
            "Epoch 12/20\n",
            "122/122 [==============================] - 18s 151ms/step - loss: 4.4538e-04 - accuracy: 1.0000 - val_loss: 0.0019 - val_accuracy: 0.9996\n",
            "Epoch 13/20\n",
            "122/122 [==============================] - 21s 174ms/step - loss: 3.0420e-04 - accuracy: 1.0000 - val_loss: 0.0026 - val_accuracy: 0.9992\n",
            "Epoch 14/20\n",
            "122/122 [==============================] - 20s 165ms/step - loss: 2.5827e-04 - accuracy: 1.0000 - val_loss: 0.0021 - val_accuracy: 0.9992\n",
            "Epoch 15/20\n",
            "122/122 [==============================] - 18s 151ms/step - loss: 2.1820e-04 - accuracy: 1.0000 - val_loss: 0.0018 - val_accuracy: 0.9996\n",
            "Epoch 16/20\n",
            "122/122 [==============================] - 20s 163ms/step - loss: 1.7990e-04 - accuracy: 1.0000 - val_loss: 0.0017 - val_accuracy: 0.9996\n",
            "Epoch 17/20\n",
            "122/122 [==============================] - 19s 152ms/step - loss: 1.5537e-04 - accuracy: 1.0000 - val_loss: 0.0023 - val_accuracy: 0.9992\n",
            "Epoch 18/20\n",
            "122/122 [==============================] - 23s 186ms/step - loss: 1.4355e-04 - accuracy: 1.0000 - val_loss: 0.0021 - val_accuracy: 0.9996\n",
            "Epoch 19/20\n",
            "122/122 [==============================] - 18s 151ms/step - loss: 1.2270e-04 - accuracy: 1.0000 - val_loss: 0.0019 - val_accuracy: 0.9996\n",
            "Epoch 20/20\n",
            "122/122 [==============================] - 18s 152ms/step - loss: 1.1394e-04 - accuracy: 1.0000 - val_loss: 0.0022 - val_accuracy: 0.9996\n"
          ]
        }
      ]
    },
    {
      "cell_type": "code",
      "source": [
        "acc = history.history['accuracy']\n",
        "val_acc = history.history['val_accuracy']\n",
        "\n",
        "loss = history.history['loss']\n",
        "val_loss = history.history['val_loss']\n",
        "\n",
        "epochs_range = range(epochs)\n",
        "\n",
        "plt.figure(figsize=(8, 8))\n",
        "plt.subplot(1, 2, 1)\n",
        "plt.plot(epochs_range, acc, label='Training Accuracy')\n",
        "plt.plot(epochs_range, val_acc, label='Validation Accuracy')\n",
        "plt.legend(loc='lower right')\n",
        "plt.title('Training and Validation Accuracy')\n",
        "\n",
        "plt.subplot(1, 2, 2)\n",
        "plt.plot(epochs_range, loss, label='Training Loss')\n",
        "plt.plot(epochs_range, val_loss, label='Validation Loss')\n",
        "plt.legend(loc='upper right')\n",
        "plt.title('Training and Validation Loss')\n",
        "plt.show()"
      ],
      "metadata": {
        "colab": {
          "base_uri": "https://localhost:8080/",
          "height": 699
        },
        "id": "D-ka7cYjX6ux",
        "outputId": "7e9642da-9d31-48d2-f222-81e0b2e03bc2"
      },
      "execution_count": 31,
      "outputs": [
        {
          "output_type": "display_data",
          "data": {
            "text/plain": [
              "<Figure size 800x800 with 2 Axes>"
            ],
            "image/png": "[encoded data removed]"
          },
          "metadata": {}
        }
      ]
    },
    {
      "cell_type": "markdown",
      "source": [
        "# Ocena modelu"
      ],
      "metadata": {
        "id": "3cJKXhBuYBfo"
      }
    },
    {
      "cell_type": "code",
      "source": [
        "from sklearn.metrics import classification_report\n",
        "\n",
        "def evaluate_model(val_ds, model):\n",
        "    y_pred = []\n",
        "    y_true = []\n",
        "\n",
        "    for batch_images, batch_labels in val_ds:\n",
        "        predictions = model.predict(batch_images, verbose = 0)\n",
        "        y_pred = y_pred + np.argmax(tf.nn.softmax(predictions), axis = 1).tolist()\n",
        "        y_true = y_true + batch_labels.numpy().tolist()\n",
        "    print(classification_report(y_true, y_pred))\n",
        "\n",
        "evaluate_model(val_ds, model)"
      ],
      "metadata": {
        "colab": {
          "base_uri": "https://localhost:8080/"
        },
        "id": "CJ83VBHrYC0F",
        "outputId": "60c7e367-1328-42ce-9785-f293eb3a5484"
      },
      "execution_count": 32,
      "outputs": [
        {
          "output_type": "stream",
          "name": "stdout",
          "text": [
            "              precision    recall  f1-score   support\n",
            "\n",
            "           0       1.00      1.00      1.00       119\n",
            "           1       1.00      1.00      1.00       141\n",
            "           2       1.00      1.00      1.00       112\n",
            "           3       1.00      1.00      1.00        66\n",
            "           4       1.00      1.00      1.00       110\n",
            "           5       1.00      1.00      1.00       114\n",
            "           6       1.00      1.00      1.00       115\n",
            "           7       1.00      1.00      1.00        60\n",
            "           8       1.00      1.00      1.00        84\n",
            "           9       1.00      1.00      1.00       129\n",
            "          10       1.00      1.00      1.00        98\n",
            "          11       1.00      0.99      1.00       114\n",
            "          12       1.00      1.00      1.00       118\n",
            "          13       1.00      1.00      1.00       100\n",
            "          14       1.00      1.00      1.00       101\n",
            "          15       1.00      1.00      1.00       106\n",
            "          16       1.00      1.00      1.00        99\n",
            "          17       0.99      1.00      1.00       114\n",
            "          18       1.00      1.00      1.00       112\n",
            "          19       1.00      1.00      1.00        68\n",
            "          20       1.00      1.00      1.00        55\n",
            "          21       1.00      1.00      1.00        66\n",
            "          22       1.00      1.00      1.00       102\n",
            "          23       1.00      1.00      1.00       123\n",
            "\n",
            "    accuracy                           1.00      2426\n",
            "   macro avg       1.00      1.00      1.00      2426\n",
            "weighted avg       1.00      1.00      1.00      2426\n",
            "\n"
          ]
        }
      ]
    }
  ]
}